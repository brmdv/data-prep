{
 "cells": [
  {
   "cell_type": "markdown",
   "id": "declared-contents",
   "metadata": {},
   "source": [
    "# Data preprocessing: NYC Crashes\n",
    "\n",
    "In this project, a dataset with information about car crashes in New York is cleaned and preprocessed for Machine Learning. \n",
    "\n",
    "Let us begin with importing Pandas."
   ]
  },
  {
   "cell_type": "code",
   "execution_count": 2,
   "id": "occupied-knock",
   "metadata": {},
   "outputs": [],
   "source": [
    "import pandas as pd"
   ]
  },
  {
   "cell_type": "markdown",
   "id": "constitutional-distinction",
   "metadata": {},
   "source": [
    "Import the (test) data as a Pandas dataframe and take a first look."
   ]
  },
  {
   "cell_type": "code",
   "execution_count": 7,
   "id": "rural-element",
   "metadata": {},
   "outputs": [
    {
     "output_type": "execute_result",
     "data": {
      "text/plain": [
       "                crash_date crash_time        borough  zip_code   latitude  \\\n",
       "0  2017-04-18T00:00:00.000      23:10  STATEN ISLAND   10312.0  40.536728   \n",
       "1  2017-05-06T00:00:00.000      13:00          BRONX   10472.0  40.829052   \n",
       "2  2017-04-27T00:00:00.000      17:15         QUEENS   11420.0  40.677303   \n",
       "3  2017-05-09T00:00:00.000      20:10            NaN       NaN  40.624958   \n",
       "4  2017-04-18T00:00:00.000      14:00          BRONX   10456.0  40.828846   \n",
       "\n",
       "   longitude                 location                    on_street_name  \\\n",
       "0 -74.193344  (40.536728, -74.193344)                               NaN   \n",
       "1 -73.850380   (40.829052, -73.85038)  CASTLE HILL AVENUE                 \n",
       "2 -73.804565  (40.677303, -73.804565)  135 STREET                         \n",
       "3 -74.145775  (40.624958, -74.145775)  FOREST AVENUE                      \n",
       "4 -73.903120   (40.828846, -73.90312)                               NaN   \n",
       "\n",
       "    off_street_name                         cross_street_name  ...  \\\n",
       "0               NaN  243       DARLINGTON AVENUE               ...   \n",
       "1  BLACKROCK AVENUE                                       NaN  ...   \n",
       "2    FOCH BOULEVARD                                       NaN  ...   \n",
       "3   RICHMOND AVENUE                                       NaN  ...   \n",
       "4               NaN  1167      BOSTON ROAD                     ...   \n",
       "\n",
       "   contributing_factor_vehicle_2  contributing_factor_vehicle_3  \\\n",
       "0                    Unspecified                            NaN   \n",
       "1                            NaN                            NaN   \n",
       "2                    Unspecified                            NaN   \n",
       "3                    Unspecified                    Unspecified   \n",
       "4                    Unspecified                            NaN   \n",
       "\n",
       "   contributing_factor_vehicle_4  contributing_factor_vehicle_5  collision_id  \\\n",
       "0                            NaN                            NaN       3654181   \n",
       "1                            NaN                            NaN       3665311   \n",
       "2                            NaN                            NaN       3658491   \n",
       "3                            NaN                            NaN       3666554   \n",
       "4                            NaN                            NaN       3653269   \n",
       "\n",
       "                    vehicle_type_code1                   vehicle_type_code2  \\\n",
       "0  Station Wagon/Sport Utility Vehicle                                  NaN   \n",
       "1                                Sedan                                  NaN   \n",
       "2                                Sedan                                Sedan   \n",
       "3                           Motorcycle                                Sedan   \n",
       "4                                Sedan  Station Wagon/Sport Utility Vehicle   \n",
       "\n",
       "   vehicle_type_code_3 vehicle_type_code_4 vehicle_type_code_5  \n",
       "0                  NaN                 NaN                 NaN  \n",
       "1                  NaN                 NaN                 NaN  \n",
       "2                  NaN                 NaN                 NaN  \n",
       "3                  Bus                 NaN                 NaN  \n",
       "4                  NaN                 NaN                 NaN  \n",
       "\n",
       "[5 rows x 29 columns]"
      ],
      "text/html": "<div>\n<style scoped>\n    .dataframe tbody tr th:only-of-type {\n        vertical-align: middle;\n    }\n\n    .dataframe tbody tr th {\n        vertical-align: top;\n    }\n\n    .dataframe thead th {\n        text-align: right;\n    }\n</style>\n<table border=\"1\" class=\"dataframe\">\n  <thead>\n    <tr style=\"text-align: right;\">\n      <th></th>\n      <th>crash_date</th>\n      <th>crash_time</th>\n      <th>borough</th>\n      <th>zip_code</th>\n      <th>latitude</th>\n      <th>longitude</th>\n      <th>location</th>\n      <th>on_street_name</th>\n      <th>off_street_name</th>\n      <th>cross_street_name</th>\n      <th>...</th>\n      <th>contributing_factor_vehicle_2</th>\n      <th>contributing_factor_vehicle_3</th>\n      <th>contributing_factor_vehicle_4</th>\n      <th>contributing_factor_vehicle_5</th>\n      <th>collision_id</th>\n      <th>vehicle_type_code1</th>\n      <th>vehicle_type_code2</th>\n      <th>vehicle_type_code_3</th>\n      <th>vehicle_type_code_4</th>\n      <th>vehicle_type_code_5</th>\n    </tr>\n  </thead>\n  <tbody>\n    <tr>\n      <th>0</th>\n      <td>2017-04-18T00:00:00.000</td>\n      <td>23:10</td>\n      <td>STATEN ISLAND</td>\n      <td>10312.0</td>\n      <td>40.536728</td>\n      <td>-74.193344</td>\n      <td>(40.536728, -74.193344)</td>\n      <td>NaN</td>\n      <td>NaN</td>\n      <td>243       DARLINGTON AVENUE</td>\n      <td>...</td>\n      <td>Unspecified</td>\n      <td>NaN</td>\n      <td>NaN</td>\n      <td>NaN</td>\n      <td>3654181</td>\n      <td>Station Wagon/Sport Utility Vehicle</td>\n      <td>NaN</td>\n      <td>NaN</td>\n      <td>NaN</td>\n      <td>NaN</td>\n    </tr>\n    <tr>\n      <th>1</th>\n      <td>2017-05-06T00:00:00.000</td>\n      <td>13:00</td>\n      <td>BRONX</td>\n      <td>10472.0</td>\n      <td>40.829052</td>\n      <td>-73.850380</td>\n      <td>(40.829052, -73.85038)</td>\n      <td>CASTLE HILL AVENUE</td>\n      <td>BLACKROCK AVENUE</td>\n      <td>NaN</td>\n      <td>...</td>\n      <td>NaN</td>\n      <td>NaN</td>\n      <td>NaN</td>\n      <td>NaN</td>\n      <td>3665311</td>\n      <td>Sedan</td>\n      <td>NaN</td>\n      <td>NaN</td>\n      <td>NaN</td>\n      <td>NaN</td>\n    </tr>\n    <tr>\n      <th>2</th>\n      <td>2017-04-27T00:00:00.000</td>\n      <td>17:15</td>\n      <td>QUEENS</td>\n      <td>11420.0</td>\n      <td>40.677303</td>\n      <td>-73.804565</td>\n      <td>(40.677303, -73.804565)</td>\n      <td>135 STREET</td>\n      <td>FOCH BOULEVARD</td>\n      <td>NaN</td>\n      <td>...</td>\n      <td>Unspecified</td>\n      <td>NaN</td>\n      <td>NaN</td>\n      <td>NaN</td>\n      <td>3658491</td>\n      <td>Sedan</td>\n      <td>Sedan</td>\n      <td>NaN</td>\n      <td>NaN</td>\n      <td>NaN</td>\n    </tr>\n    <tr>\n      <th>3</th>\n      <td>2017-05-09T00:00:00.000</td>\n      <td>20:10</td>\n      <td>NaN</td>\n      <td>NaN</td>\n      <td>40.624958</td>\n      <td>-74.145775</td>\n      <td>(40.624958, -74.145775)</td>\n      <td>FOREST AVENUE</td>\n      <td>RICHMOND AVENUE</td>\n      <td>NaN</td>\n      <td>...</td>\n      <td>Unspecified</td>\n      <td>Unspecified</td>\n      <td>NaN</td>\n      <td>NaN</td>\n      <td>3666554</td>\n      <td>Motorcycle</td>\n      <td>Sedan</td>\n      <td>Bus</td>\n      <td>NaN</td>\n      <td>NaN</td>\n    </tr>\n    <tr>\n      <th>4</th>\n      <td>2017-04-18T00:00:00.000</td>\n      <td>14:00</td>\n      <td>BRONX</td>\n      <td>10456.0</td>\n      <td>40.828846</td>\n      <td>-73.903120</td>\n      <td>(40.828846, -73.90312)</td>\n      <td>NaN</td>\n      <td>NaN</td>\n      <td>1167      BOSTON ROAD</td>\n      <td>...</td>\n      <td>Unspecified</td>\n      <td>NaN</td>\n      <td>NaN</td>\n      <td>NaN</td>\n      <td>3653269</td>\n      <td>Sedan</td>\n      <td>Station Wagon/Sport Utility Vehicle</td>\n      <td>NaN</td>\n      <td>NaN</td>\n      <td>NaN</td>\n    </tr>\n  </tbody>\n</table>\n<p>5 rows × 29 columns</p>\n</div>"
     },
     "metadata": {},
     "execution_count": 7
    }
   ],
   "source": [
    "df = pd.read_csv('data_100000.csv')\n",
    "df.head()"
   ]
  },
  {
   "cell_type": "code",
   "execution_count": 4,
   "id": "actual-penetration",
   "metadata": {},
   "outputs": [
    {
     "output_type": "stream",
     "name": "stdout",
     "text": [
      "<class 'pandas.core.frame.DataFrame'>\nRangeIndex: 100000 entries, 0 to 99999\nData columns (total 29 columns):\n #   Column                         Non-Null Count   Dtype  \n---  ------                         --------------   -----  \n 0   crash_date                     100000 non-null  object \n 1   crash_time                     100000 non-null  object \n 2   borough                        64974 non-null   object \n 3   zip_code                       64966 non-null   float64\n 4   latitude                       91965 non-null   float64\n 5   longitude                      91965 non-null   float64\n 6   location                       91965 non-null   object \n 7   on_street_name                 73991 non-null   object \n 8   off_street_name                47125 non-null   object \n 9   cross_street_name              25967 non-null   object \n 10  number_of_persons_injured      100000 non-null  int64  \n 11  number_of_persons_killed       100000 non-null  int64  \n 12  number_of_pedestrians_injured  100000 non-null  int64  \n 13  number_of_pedestrians_killed   100000 non-null  int64  \n 14  number_of_cyclist_injured      100000 non-null  int64  \n 15  number_of_cyclist_killed       100000 non-null  int64  \n 16  number_of_motorist_injured     100000 non-null  int64  \n 17  number_of_motorist_killed      100000 non-null  int64  \n 18  contributing_factor_vehicle_1  99629 non-null   object \n 19  contributing_factor_vehicle_2  80757 non-null   object \n 20  contributing_factor_vehicle_3  8761 non-null    object \n 21  contributing_factor_vehicle_4  2240 non-null    object \n 22  contributing_factor_vehicle_5  667 non-null     object \n 23  collision_id                   100000 non-null  int64  \n 24  vehicle_type_code1             99260 non-null   object \n 25  vehicle_type_code2             73411 non-null   object \n 26  vehicle_type_code_3            8329 non-null    object \n 27  vehicle_type_code_4            2147 non-null    object \n 28  vehicle_type_code_5            646 non-null     object \ndtypes: float64(3), int64(9), object(17)\nmemory usage: 22.1+ MB\n"
     ]
    }
   ],
   "source": [
    "df.info()"
   ]
  },
  {
   "source": [
    "There are a lot of null values and it is tempting to remove them. But in order to get a better understanding for which data is important, redundant, double, I will first clean it up a bit. We candon't want to throw away data if it's not necessary."
   ],
   "cell_type": "markdown",
   "metadata": {}
  },
  {
   "source": [
    "## Data types\n",
    "Let us begin checking that every feature has the correct dtype. \n",
    "\n",
    "To start, the **date and time** are just strings now. We could fix that when importing creating the dataframe, so let's do that now there's still the chance. "
   ],
   "cell_type": "markdown",
   "metadata": {}
  },
  {
   "cell_type": "code",
   "execution_count": 17,
   "metadata": {},
   "outputs": [
    {
     "output_type": "execute_result",
     "data": {
      "text/plain": [
       "       crash_datetime        borough  zip_code   latitude  longitude  \\\n",
       "0 2017-04-18 23:10:00  STATEN ISLAND   10312.0  40.536728 -74.193344   \n",
       "1 2017-05-06 13:00:00          BRONX   10472.0  40.829052 -73.850380   \n",
       "2 2017-04-27 17:15:00         QUEENS   11420.0  40.677303 -73.804565   \n",
       "3 2017-05-09 20:10:00            NaN       NaN  40.624958 -74.145775   \n",
       "4 2017-04-18 14:00:00          BRONX   10456.0  40.828846 -73.903120   \n",
       "\n",
       "                  location                    on_street_name  \\\n",
       "0  (40.536728, -74.193344)                               NaN   \n",
       "1   (40.829052, -73.85038)  CASTLE HILL AVENUE                 \n",
       "2  (40.677303, -73.804565)  135 STREET                         \n",
       "3  (40.624958, -74.145775)  FOREST AVENUE                      \n",
       "4   (40.828846, -73.90312)                               NaN   \n",
       "\n",
       "    off_street_name                         cross_street_name  \\\n",
       "0               NaN  243       DARLINGTON AVENUE                \n",
       "1  BLACKROCK AVENUE                                       NaN   \n",
       "2    FOCH BOULEVARD                                       NaN   \n",
       "3   RICHMOND AVENUE                                       NaN   \n",
       "4               NaN  1167      BOSTON ROAD                      \n",
       "\n",
       "   number_of_persons_injured  ...  contributing_factor_vehicle_2  \\\n",
       "0                          0  ...                    Unspecified   \n",
       "1                          1  ...                            NaN   \n",
       "2                          0  ...                    Unspecified   \n",
       "3                          1  ...                    Unspecified   \n",
       "4                          0  ...                    Unspecified   \n",
       "\n",
       "   contributing_factor_vehicle_3  contributing_factor_vehicle_4  \\\n",
       "0                            NaN                            NaN   \n",
       "1                            NaN                            NaN   \n",
       "2                            NaN                            NaN   \n",
       "3                    Unspecified                            NaN   \n",
       "4                            NaN                            NaN   \n",
       "\n",
       "   contributing_factor_vehicle_5  collision_id  \\\n",
       "0                            NaN       3654181   \n",
       "1                            NaN       3665311   \n",
       "2                            NaN       3658491   \n",
       "3                            NaN       3666554   \n",
       "4                            NaN       3653269   \n",
       "\n",
       "                    vehicle_type_code1                   vehicle_type_code2  \\\n",
       "0  Station Wagon/Sport Utility Vehicle                                  NaN   \n",
       "1                                Sedan                                  NaN   \n",
       "2                                Sedan                                Sedan   \n",
       "3                           Motorcycle                                Sedan   \n",
       "4                                Sedan  Station Wagon/Sport Utility Vehicle   \n",
       "\n",
       "  vehicle_type_code_3 vehicle_type_code_4 vehicle_type_code_5  \n",
       "0                 NaN                 NaN                 NaN  \n",
       "1                 NaN                 NaN                 NaN  \n",
       "2                 NaN                 NaN                 NaN  \n",
       "3                 Bus                 NaN                 NaN  \n",
       "4                 NaN                 NaN                 NaN  \n",
       "\n",
       "[5 rows x 28 columns]"
      ],
      "text/html": "<div>\n<style scoped>\n    .dataframe tbody tr th:only-of-type {\n        vertical-align: middle;\n    }\n\n    .dataframe tbody tr th {\n        vertical-align: top;\n    }\n\n    .dataframe thead th {\n        text-align: right;\n    }\n</style>\n<table border=\"1\" class=\"dataframe\">\n  <thead>\n    <tr style=\"text-align: right;\">\n      <th></th>\n      <th>crash_datetime</th>\n      <th>borough</th>\n      <th>zip_code</th>\n      <th>latitude</th>\n      <th>longitude</th>\n      <th>location</th>\n      <th>on_street_name</th>\n      <th>off_street_name</th>\n      <th>cross_street_name</th>\n      <th>number_of_persons_injured</th>\n      <th>...</th>\n      <th>contributing_factor_vehicle_2</th>\n      <th>contributing_factor_vehicle_3</th>\n      <th>contributing_factor_vehicle_4</th>\n      <th>contributing_factor_vehicle_5</th>\n      <th>collision_id</th>\n      <th>vehicle_type_code1</th>\n      <th>vehicle_type_code2</th>\n      <th>vehicle_type_code_3</th>\n      <th>vehicle_type_code_4</th>\n      <th>vehicle_type_code_5</th>\n    </tr>\n  </thead>\n  <tbody>\n    <tr>\n      <th>0</th>\n      <td>2017-04-18 23:10:00</td>\n      <td>STATEN ISLAND</td>\n      <td>10312.0</td>\n      <td>40.536728</td>\n      <td>-74.193344</td>\n      <td>(40.536728, -74.193344)</td>\n      <td>NaN</td>\n      <td>NaN</td>\n      <td>243       DARLINGTON AVENUE</td>\n      <td>0</td>\n      <td>...</td>\n      <td>Unspecified</td>\n      <td>NaN</td>\n      <td>NaN</td>\n      <td>NaN</td>\n      <td>3654181</td>\n      <td>Station Wagon/Sport Utility Vehicle</td>\n      <td>NaN</td>\n      <td>NaN</td>\n      <td>NaN</td>\n      <td>NaN</td>\n    </tr>\n    <tr>\n      <th>1</th>\n      <td>2017-05-06 13:00:00</td>\n      <td>BRONX</td>\n      <td>10472.0</td>\n      <td>40.829052</td>\n      <td>-73.850380</td>\n      <td>(40.829052, -73.85038)</td>\n      <td>CASTLE HILL AVENUE</td>\n      <td>BLACKROCK AVENUE</td>\n      <td>NaN</td>\n      <td>1</td>\n      <td>...</td>\n      <td>NaN</td>\n      <td>NaN</td>\n      <td>NaN</td>\n      <td>NaN</td>\n      <td>3665311</td>\n      <td>Sedan</td>\n      <td>NaN</td>\n      <td>NaN</td>\n      <td>NaN</td>\n      <td>NaN</td>\n    </tr>\n    <tr>\n      <th>2</th>\n      <td>2017-04-27 17:15:00</td>\n      <td>QUEENS</td>\n      <td>11420.0</td>\n      <td>40.677303</td>\n      <td>-73.804565</td>\n      <td>(40.677303, -73.804565)</td>\n      <td>135 STREET</td>\n      <td>FOCH BOULEVARD</td>\n      <td>NaN</td>\n      <td>0</td>\n      <td>...</td>\n      <td>Unspecified</td>\n      <td>NaN</td>\n      <td>NaN</td>\n      <td>NaN</td>\n      <td>3658491</td>\n      <td>Sedan</td>\n      <td>Sedan</td>\n      <td>NaN</td>\n      <td>NaN</td>\n      <td>NaN</td>\n    </tr>\n    <tr>\n      <th>3</th>\n      <td>2017-05-09 20:10:00</td>\n      <td>NaN</td>\n      <td>NaN</td>\n      <td>40.624958</td>\n      <td>-74.145775</td>\n      <td>(40.624958, -74.145775)</td>\n      <td>FOREST AVENUE</td>\n      <td>RICHMOND AVENUE</td>\n      <td>NaN</td>\n      <td>1</td>\n      <td>...</td>\n      <td>Unspecified</td>\n      <td>Unspecified</td>\n      <td>NaN</td>\n      <td>NaN</td>\n      <td>3666554</td>\n      <td>Motorcycle</td>\n      <td>Sedan</td>\n      <td>Bus</td>\n      <td>NaN</td>\n      <td>NaN</td>\n    </tr>\n    <tr>\n      <th>4</th>\n      <td>2017-04-18 14:00:00</td>\n      <td>BRONX</td>\n      <td>10456.0</td>\n      <td>40.828846</td>\n      <td>-73.903120</td>\n      <td>(40.828846, -73.90312)</td>\n      <td>NaN</td>\n      <td>NaN</td>\n      <td>1167      BOSTON ROAD</td>\n      <td>0</td>\n      <td>...</td>\n      <td>Unspecified</td>\n      <td>NaN</td>\n      <td>NaN</td>\n      <td>NaN</td>\n      <td>3653269</td>\n      <td>Sedan</td>\n      <td>Station Wagon/Sport Utility Vehicle</td>\n      <td>NaN</td>\n      <td>NaN</td>\n      <td>NaN</td>\n    </tr>\n  </tbody>\n</table>\n<p>5 rows × 28 columns</p>\n</div>"
     },
     "metadata": {},
     "execution_count": 17
    }
   ],
   "source": [
    "# reimport the data\n",
    "df = pd.read_csv('data_100000.csv.xz', parse_dates=[[0,1]])\n",
    "df.rename(columns={'crash_date_crash_time': \"crash_datetime\"}, inplace=True)  # simplify column name\n",
    "df.head()"
   ]
  },
  {
   "cell_type": "code",
   "execution_count": null,
   "metadata": {},
   "outputs": [],
   "source": []
  }
 ],
 "metadata": {
  "kernelspec": {
   "display_name": "Python 3",
   "language": "python",
   "name": "python3"
  }
 },
 "nbformat": 4,
 "nbformat_minor": 5
}